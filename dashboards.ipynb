{
  "cells": [
    {
      "cell_type": "code",
      "execution_count": 1,
      "metadata": {},
      "outputs": [
        {
          "data": {
            "text/plain": [
              "True"
            ]
          },
          "execution_count": 1,
          "metadata": {},
          "output_type": "execute_result"
        }
      ],
      "source": [
        "# install python-dotenv, langchain, langchain-openai, google-cloud-bigquery, gradio\n",
        "\n",
        "import os\n",
        "from dotenv import load_dotenv\n",
        "from langchain_openai import ChatOpenAI\n",
        "from langchain_core.prompts import ChatPromptTemplate\n",
        "from langchain_core.output_parsers import StrOutputParser\n",
        "from langchain_core.runnables import RunnablePassthrough\n",
        "from langchain_core.runnables.history import RunnableWithMessageHistory\n",
        "from langchain.memory import ChatMessageHistory\n",
        "from langchain_core.prompts import ChatPromptTemplate, MessagesPlaceholder\n",
        "from google.cloud import bigquery\n",
        "from google.oauth2 import service_account\n",
        "import gradio as gr\n",
        "\n",
        "load_dotenv()"
      ]
    },
    {
      "cell_type": "code",
      "execution_count": 2,
      "metadata": {},
      "outputs": [],
      "source": [
        "# Set up BigQuery Account Credentials\n",
        "\n",
        "service_account_path = '.\\gbqkey.json'\n",
        "dataset_id = 'maxs-bi-project.maxbiproject'\n",
        "table_id = \"events_20210131\"\n",
        "credentials = service_account.Credentials.from_service_account_file(service_account_path)\n",
        "gbq_client = bigquery.Client(credentials=credentials, project=credentials.project_id)"
      ]
    },
    {
      "cell_type": "code",
      "execution_count": 3,
      "metadata": {},
      "outputs": [],
      "source": [
        "# Define a function to build a schema decription in natural language to feed to the model, inclduing nested fields\n",
        "\n",
        "def build_schema_desc(fields, prefix=\"\"):\n",
        "    desc = []\n",
        "    for f in fields:\n",
        "        d = f\"{prefix}- Name: {f.name}, Type: {f.field_type}, Mode: {f.mode}\"\n",
        "        desc.append(d)\n",
        "        if f.field_type == 'RECORD':\n",
        "            sub_desc = build_schema_desc(f.fields, prefix + \"    \")\n",
        "            desc.extend(sub_desc)\n",
        "    return desc"
      ]
    },
    {
      "cell_type": "code",
      "execution_count": 4,
      "metadata": {},
      "outputs": [],
      "source": [
        "# Define function a to fetch a schema from a BigQuery Table based on dataset_id, my BigQuery client with my service account credentials, and the table_id\n",
        "# If your want to query a different table simply modify the dataset_id or table_id accordingly\n",
        "\n",
        "def fetch_schemas(dataset_id, client, table_id):\n",
        "    schemas = []\n",
        "    simple_table_list = []\n",
        "\n",
        "    tables = client.list_tables(dataset_id)\n",
        "    for table in tables:\n",
        "        if table_id in table.table_id:\n",
        "            ref = client.get_table(table)\n",
        "\n",
        "            simple_table_list.append(f\"- {ref.project}.{ref.dataset_id}.{ref.table_id}\")\n",
        "\n",
        "            schema_desc = [f\"Schema for {table.table_id}:\"]\n",
        "            schema_desc += build_schema_desc(ref.schema)\n",
        "            schema_desc.append(\"\")  # For newline\n",
        "\n",
        "            schemas += schema_desc\n",
        "\n",
        "    return \"\\n\".join(simple_table_list) + \"\\n\\n\" + \"\\n\".join(schemas)"
      ]
    },
    {
      "cell_type": "code",
      "execution_count": 5,
      "metadata": {},
      "outputs": [
        {
          "data": {
            "text/plain": [
              "'- maxs-bi-project.maxbiproject.events_20210131\\n\\nSchema for events_20210131:\\n- Name: event_date, Type: STRING, Mode: NULLABLE\\n- Name: event_timestamp, Type: INTEGER, Mode: NULLABLE\\n- Name: event_name, Type: STRING, Mode: NULLABLE\\n- Name: event_params, Type: RECORD, Mode: REPEATED\\n    - Name: key, Type: STRING, Mode: NULLABLE\\n    - Name: value, Type: RECORD, Mode: NULLABLE\\n        - Name: string_value, Type: STRING, Mode: NULLABLE\\n        - Name: int_value, Type: INTEGER, Mode: NULLABLE\\n        - Name: float_value, Type: FLOAT, Mode: NULLABLE\\n        - Name: double_value, Type: FLOAT, Mode: NULLABLE\\n- Name: event_previous_timestamp, Type: INTEGER, Mode: NULLABLE\\n- Name: event_value_in_usd, Type: FLOAT, Mode: NULLABLE\\n- Name: event_bundle_sequence_id, Type: INTEGER, Mode: NULLABLE\\n- Name: event_server_timestamp_offset, Type: INTEGER, Mode: NULLABLE\\n- Name: user_id, Type: STRING, Mode: NULLABLE\\n- Name: user_pseudo_id, Type: STRING, Mode: NULLABLE\\n- Name: privacy_info, Type: RECORD, Mode: NULLABLE\\n    - Name: analytics_storage, Type: INTEGER, Mode: NULLABLE\\n    - Name: ads_storage, Type: INTEGER, Mode: NULLABLE\\n    - Name: uses_transient_token, Type: STRING, Mode: NULLABLE\\n- Name: user_properties, Type: RECORD, Mode: REPEATED\\n    - Name: key, Type: INTEGER, Mode: NULLABLE\\n    - Name: value, Type: RECORD, Mode: NULLABLE\\n        - Name: string_value, Type: INTEGER, Mode: NULLABLE\\n        - Name: int_value, Type: INTEGER, Mode: NULLABLE\\n        - Name: float_value, Type: INTEGER, Mode: NULLABLE\\n        - Name: double_value, Type: INTEGER, Mode: NULLABLE\\n        - Name: set_timestamp_micros, Type: INTEGER, Mode: NULLABLE\\n- Name: user_first_touch_timestamp, Type: INTEGER, Mode: NULLABLE\\n- Name: user_ltv, Type: RECORD, Mode: NULLABLE\\n    - Name: revenue, Type: FLOAT, Mode: NULLABLE\\n    - Name: currency, Type: STRING, Mode: NULLABLE\\n- Name: device, Type: RECORD, Mode: NULLABLE\\n    - Name: category, Type: STRING, Mode: NULLABLE\\n    - Name: mobile_brand_name, Type: STRING, Mode: NULLABLE\\n    - Name: mobile_model_name, Type: STRING, Mode: NULLABLE\\n    - Name: mobile_marketing_name, Type: STRING, Mode: NULLABLE\\n    - Name: mobile_os_hardware_model, Type: INTEGER, Mode: NULLABLE\\n    - Name: operating_system, Type: STRING, Mode: NULLABLE\\n    - Name: operating_system_version, Type: STRING, Mode: NULLABLE\\n    - Name: vendor_id, Type: INTEGER, Mode: NULLABLE\\n    - Name: advertising_id, Type: INTEGER, Mode: NULLABLE\\n    - Name: language, Type: STRING, Mode: NULLABLE\\n    - Name: is_limited_ad_tracking, Type: STRING, Mode: NULLABLE\\n    - Name: time_zone_offset_seconds, Type: INTEGER, Mode: NULLABLE\\n    - Name: web_info, Type: RECORD, Mode: NULLABLE\\n        - Name: browser, Type: STRING, Mode: NULLABLE\\n        - Name: browser_version, Type: STRING, Mode: NULLABLE\\n- Name: geo, Type: RECORD, Mode: NULLABLE\\n    - Name: continent, Type: STRING, Mode: NULLABLE\\n    - Name: sub_continent, Type: STRING, Mode: NULLABLE\\n    - Name: country, Type: STRING, Mode: NULLABLE\\n    - Name: region, Type: STRING, Mode: NULLABLE\\n    - Name: city, Type: STRING, Mode: NULLABLE\\n    - Name: metro, Type: STRING, Mode: NULLABLE\\n- Name: app_info, Type: RECORD, Mode: NULLABLE\\n    - Name: id, Type: STRING, Mode: NULLABLE\\n    - Name: version, Type: STRING, Mode: NULLABLE\\n    - Name: install_store, Type: STRING, Mode: NULLABLE\\n    - Name: firebase_app_id, Type: STRING, Mode: NULLABLE\\n    - Name: install_source, Type: STRING, Mode: NULLABLE\\n- Name: traffic_source, Type: RECORD, Mode: NULLABLE\\n    - Name: medium, Type: STRING, Mode: NULLABLE\\n    - Name: name, Type: STRING, Mode: NULLABLE\\n    - Name: source, Type: STRING, Mode: NULLABLE\\n- Name: stream_id, Type: INTEGER, Mode: NULLABLE\\n- Name: platform, Type: STRING, Mode: NULLABLE\\n- Name: event_dimensions, Type: RECORD, Mode: NULLABLE\\n    - Name: hostname, Type: STRING, Mode: NULLABLE\\n- Name: ecommerce, Type: RECORD, Mode: NULLABLE\\n    - Name: total_item_quantity, Type: INTEGER, Mode: NULLABLE\\n    - Name: purchase_revenue_in_usd, Type: FLOAT, Mode: NULLABLE\\n    - Name: purchase_revenue, Type: FLOAT, Mode: NULLABLE\\n    - Name: refund_value_in_usd, Type: FLOAT, Mode: NULLABLE\\n    - Name: refund_value, Type: FLOAT, Mode: NULLABLE\\n    - Name: shipping_value_in_usd, Type: FLOAT, Mode: NULLABLE\\n    - Name: shipping_value, Type: FLOAT, Mode: NULLABLE\\n    - Name: tax_value_in_usd, Type: FLOAT, Mode: NULLABLE\\n    - Name: tax_value, Type: FLOAT, Mode: NULLABLE\\n    - Name: unique_items, Type: INTEGER, Mode: NULLABLE\\n    - Name: transaction_id, Type: STRING, Mode: NULLABLE\\n- Name: items, Type: RECORD, Mode: REPEATED\\n    - Name: item_id, Type: STRING, Mode: NULLABLE\\n    - Name: item_name, Type: STRING, Mode: NULLABLE\\n    - Name: item_brand, Type: STRING, Mode: NULLABLE\\n    - Name: item_variant, Type: STRING, Mode: NULLABLE\\n    - Name: item_category, Type: STRING, Mode: NULLABLE\\n    - Name: item_category2, Type: STRING, Mode: NULLABLE\\n    - Name: item_category3, Type: STRING, Mode: NULLABLE\\n    - Name: item_category4, Type: STRING, Mode: NULLABLE\\n    - Name: item_category5, Type: STRING, Mode: NULLABLE\\n    - Name: price_in_usd, Type: FLOAT, Mode: NULLABLE\\n    - Name: price, Type: FLOAT, Mode: NULLABLE\\n    - Name: quantity, Type: INTEGER, Mode: NULLABLE\\n    - Name: item_revenue_in_usd, Type: FLOAT, Mode: NULLABLE\\n    - Name: item_revenue, Type: FLOAT, Mode: NULLABLE\\n    - Name: item_refund_in_usd, Type: FLOAT, Mode: NULLABLE\\n    - Name: item_refund, Type: FLOAT, Mode: NULLABLE\\n    - Name: coupon, Type: STRING, Mode: NULLABLE\\n    - Name: affiliation, Type: STRING, Mode: NULLABLE\\n    - Name: location_id, Type: STRING, Mode: NULLABLE\\n    - Name: item_list_id, Type: STRING, Mode: NULLABLE\\n    - Name: item_list_name, Type: STRING, Mode: NULLABLE\\n    - Name: item_list_index, Type: STRING, Mode: NULLABLE\\n    - Name: promotion_id, Type: STRING, Mode: NULLABLE\\n    - Name: promotion_name, Type: STRING, Mode: NULLABLE\\n    - Name: creative_name, Type: STRING, Mode: NULLABLE\\n    - Name: creative_slot, Type: STRING, Mode: NULLABLE\\n'"
            ]
          },
          "execution_count": 5,
          "metadata": {},
          "output_type": "execute_result"
        }
      ],
      "source": [
        "fetch_schemas(dataset_id,gbq_client,table_id)"
      ]
    },
    {
      "cell_type": "markdown",
      "metadata": {
        "id": "6TEnV0m3Di36"
      },
      "source": [
        "## Setup SQL Chain"
      ]
    },
    {
      "cell_type": "code",
      "execution_count": 6,
      "metadata": {
        "id": "CvNLMYQ5yGIy"
      },
      "outputs": [],
      "source": [
        "# Write a prompt that uses the database schema to build a SQL Query based on the user's question\n",
        "template = \"\"\"\n",
        "Based on the BigQuery schema below, write a SQL query (only return clean SQL no quotes or text)  that answers the question/request. Write main query ALIAS in short simple capital letters. Remember to UNNEST repeated records and CAST timestamps/dates in the right format when comparing or subtracting:\n",
        "schema: {schema}\n",
        "Question: {question}\n",
        "SQL Query:\n",
        "\"\"\"\n",
        "prompt = ChatPromptTemplate.from_template(template)"
      ]
    },
    {
      "cell_type": "code",
      "execution_count": 7,
      "metadata": {},
      "outputs": [],
      "source": [
        "# Use Chat GPT 4 as the model\n",
        "llm = ChatOpenAI(model_name=\"gpt-4\")"
      ]
    },
    {
      "cell_type": "code",
      "execution_count": 8,
      "metadata": {},
      "outputs": [],
      "source": [
        "# Define a function that uses the fetch schemas function with a single input\n",
        "def get_schema(_):\n",
        "    return fetch_schemas(dataset_id,gbq_client,table_id)"
      ]
    },
    {
      "cell_type": "code",
      "execution_count": 9,
      "metadata": {},
      "outputs": [],
      "source": [
        "# Create a chain that \n",
        "sql_chain = (RunnablePassthrough.assign(schema=get_schema) | prompt | llm.bind(stop=[\"\\nSQLResult:\"])  | StrOutputParser())"
      ]
    },
    {
      "cell_type": "code",
      "execution_count": 10,
      "metadata": {
        "colab": {
          "base_uri": "https://localhost:8080/",
          "height": 1000
        },
        "id": "oU99wlhFyj-P",
        "outputId": "9b3bc8c4-3d98-4540-9522-8cc193ae960a"
      },
      "outputs": [
        {
          "data": {
            "text/html": [
              "<div>\n",
              "<style scoped>\n",
              "    .dataframe tbody tr th:only-of-type {\n",
              "        vertical-align: middle;\n",
              "    }\n",
              "\n",
              "    .dataframe tbody tr th {\n",
              "        vertical-align: top;\n",
              "    }\n",
              "\n",
              "    .dataframe thead th {\n",
              "        text-align: right;\n",
              "    }\n",
              "</style>\n",
              "<table border=\"1\" class=\"dataframe\">\n",
              "  <thead>\n",
              "    <tr style=\"text-align: right;\">\n",
              "      <th></th>\n",
              "      <th>item_name</th>\n",
              "      <th>total_purchased</th>\n",
              "    </tr>\n",
              "  </thead>\n",
              "  <tbody>\n",
              "    <tr>\n",
              "      <th>0</th>\n",
              "      <td>Google Twill Cap Charcoal</td>\n",
              "      <td>55</td>\n",
              "    </tr>\n",
              "    <tr>\n",
              "      <th>1</th>\n",
              "      <td>Google Keychain</td>\n",
              "      <td>40</td>\n",
              "    </tr>\n",
              "    <tr>\n",
              "      <th>2</th>\n",
              "      <td>Google Laptop and Cell Phone Stickers</td>\n",
              "      <td>26</td>\n",
              "    </tr>\n",
              "    <tr>\n",
              "      <th>3</th>\n",
              "      <td>Google Bot (Multicolored)</td>\n",
              "      <td>25</td>\n",
              "    </tr>\n",
              "    <tr>\n",
              "      <th>4</th>\n",
              "      <td>YouTube Twill Sandwich Cap Black</td>\n",
              "      <td>22</td>\n",
              "    </tr>\n",
              "  </tbody>\n",
              "</table>\n",
              "</div>"
            ],
            "text/plain": [
              "                               item_name  total_purchased\n",
              "0              Google Twill Cap Charcoal               55\n",
              "1                        Google Keychain               40\n",
              "2  Google Laptop and Cell Phone Stickers               26\n",
              "3              Google Bot (Multicolored)               25\n",
              "4       YouTube Twill Sandwich Cap Black               22"
            ]
          },
          "execution_count": 10,
          "metadata": {},
          "output_type": "execute_result"
        }
      ],
      "source": [
        "# Ask the database a question in natural language!\n",
        "response=sql_chain.invoke({\"question\": 'What are the five most purchased items?'})\n",
        "gbq_client.query(response).to_dataframe() # Running the query throught the BigQuery table"
      ]
    },
    {
      "cell_type": "markdown",
      "metadata": {
        "id": "KExNBS9fDcXw"
      },
      "source": [
        "## Create Gradio App"
      ]
    },
    {
      "cell_type": "code",
      "execution_count": 11,
      "metadata": {},
      "outputs": [],
      "source": [
        "# Initialize an empty string to hold the dataframes\n",
        "dataframes = ''\n",
        "\n",
        "# Function to handle Gradio input and interact with the SQL chain\n",
        "def ask_question(question):\n",
        "    global dataframes\n",
        "    response = sql_chain.invoke({\"question\": question})\n",
        "    df = gbq_client.query(response).to_dataframe()\n",
        "    dataframes += f\"Question: {question}\\nDataFrame:\\n{df.to_string()}\\n\\n\" # Append the question and its DataFrame (converted to string) to 'dataframes'\n",
        "    \n",
        "    return df"
      ]
    },
    {
      "cell_type": "code",
      "execution_count": 12,
      "metadata": {},
      "outputs": [],
      "source": [
        "# Create a second prompt to help analyze the data. Tell it to take in the string of dataframes, chat message history, and a user input.\n",
        "prompt2 = ChatPromptTemplate.from_messages(\n",
        "    [        \n",
        "        (\"system\", '''\n",
        "You are Kregg, a friendly and engaging business analytics assistant. Your goal is to make data querying and business insights fun and conversational for the users. Present information in an entertaining and approachable manner using humor, casual language, and relatable analogies. Be concise and clear, providing insightful answers and guidance to help users make informed decisions. Here are some examples to guide your responses:\n",
        "\n",
        "Examples:\n",
        "User Query: \"What were our total sales last quarter?\"\n",
        "\n",
        "Kregg's Response: \"Ah, the age-old question of how much moolah we made! Hold tight while I crunch the numbers... Voilà! Our total sales last quarter were $X. Ka-ching!\"\n",
        "User Query: \"How many new customers did we acquire last month?\"\n",
        "\n",
        "Kregg's Response: \"Let's see how many new friends joined our party last month! Drum roll, please... We welcomed Y new customers. Woohoo!\"\n",
        "User Query: \"Which products are low in stock?\"\n",
        "\n",
        "Kregg's Response: \"Time to check our shelves! It looks like these products are running low: [Product A], [Product B], and [Product C]. Better restock before they vanish like hotcakes!\"\n",
        "User Query: \"What was the ROI of our last marketing campaign?\"\n",
        "\n",
        "Kregg's Response: \"Let's decode the mystery of our marketing magic. The ROI of our last campaign was Z%. Not too shabby, right?\"\n",
        "User Query: \"Generate a report on our monthly revenue.\"\n",
        "\n",
        "Kregg's Response: \"Sure thing! I'll whip up a fancy report on our monthly revenue. Here it is, all nice and neat. Enjoy the read!\"\n",
        "Guidelines:\n",
        "Accuracy: Ensure that the information provided is accurate.\n",
        "Clarity: Present information in a clear and understandable manner.\n",
        "Engagement: Use humor, casual language, and analogies to make the conversation lively and enjoyable.\n",
        "Conciseness: Keep responses concise and to the point, providing essential information without overwhelming the user.\n",
        "        '''),\n",
        "        (\"system\", \"{dataframes}\"),  # Injecting dataframe information as a template variable\n",
        "        (\"human\", \"{input}\")\n",
        "    ]\n",
        ")"
      ]
    },
    {
      "cell_type": "code",
      "execution_count": 13,
      "metadata": {},
      "outputs": [],
      "source": [
        "convo_chain = prompt2 | llm"
      ]
    },
    {
      "cell_type": "code",
      "execution_count": 14,
      "metadata": {},
      "outputs": [],
      "source": [
        "def convo(question):\n",
        "    response = convo_chain.invoke({\"input\": question, \"dataframes\": dataframes})\n",
        "    return response.content"
      ]
    },
    {
      "cell_type": "code",
      "execution_count": 16,
      "metadata": {},
      "outputs": [
        {
          "name": "stdout",
          "output_type": "stream",
          "text": [
            "Running on local URL:  http://127.0.0.1:7860\n",
            "\n",
            "To create a public link, set `share=True` in `launch()`.\n"
          ]
        },
        {
          "data": {
            "text/html": [
              "<div><iframe src=\"http://127.0.0.1:7860/\" width=\"100%\" height=\"500\" allow=\"autoplay; camera; microphone; clipboard-read; clipboard-write;\" frameborder=\"0\" allowfullscreen></iframe></div>"
            ],
            "text/plain": [
              "<IPython.core.display.HTML object>"
            ]
          },
          "metadata": {},
          "output_type": "display_data"
        },
        {
          "data": {
            "text/plain": []
          },
          "execution_count": 16,
          "metadata": {},
          "output_type": "execute_result"
        }
      ],
      "source": [
        "# Build a Gradio app with the two ChatBots\n",
        "with gr.Blocks() as blocks:\n",
        "    gr.Markdown(\"# Meet Kregg!\")\n",
        "    gr.Markdown(\"### The AI BI analyst who can facilitate a chat between you andd your data! Get insights from your data by asking questions in natural language. Start by asking a querying your database and then ask Kregg to analyze your data for you.\")\n",
        "    gr.Markdown(\"#### Suggested Query Questions:\")\n",
        "    gr.Markdown(\n",
        "        \"\"\"\n",
        "        - \"What are the five most purchased products?\"\n",
        "        - \"What are the most profitable traffic sources?\"\n",
        "        - \"Which users have the best lifetime value?\"\n",
        "        \"\"\"\n",
        "    )\n",
        "    gr.Markdown(\"#### Suggested Analysis Questions:\")\n",
        "    gr.Markdown(\n",
        "        \"\"\"\n",
        "        - \"What insights can you tell me about my data?\"\n",
        "        - \"Generate a report based on this data.\"\n",
        "        - \"Come up with a slide deck based on this data.\"\n",
        "        \"\"\"\n",
        "    )\n",
        "\n",
        "    gr.Interface(fn=ask_question, inputs=\"text\", outputs=\"dataframe\", title=\"Ask Your Question and Let Kregg Run the Query\")\n",
        "    gr.Interface(fn=convo, inputs=\"text\", outputs=\"text\", title=\"Analyze Your Data in Natural Language\")\n",
        "\n",
        "blocks.launch()"
      ]
    }
  ],
  "metadata": {
    "colab": {
      "provenance": []
    },
    "kernelspec": {
      "display_name": "Python 3",
      "name": "python3"
    },
    "language_info": {
      "codemirror_mode": {
        "name": "ipython",
        "version": 3
      },
      "file_extension": ".py",
      "mimetype": "text/x-python",
      "name": "python",
      "nbconvert_exporter": "python",
      "pygments_lexer": "ipython3",
      "version": "3.11.4"
    }
  },
  "nbformat": 4,
  "nbformat_minor": 0
}
